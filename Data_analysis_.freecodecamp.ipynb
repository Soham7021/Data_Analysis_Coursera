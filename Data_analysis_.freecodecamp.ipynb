{
 "cells": [
  {
   "cell_type": "code",
   "execution_count": 2,
   "id": "4ee4591e",
   "metadata": {},
   "outputs": [],
   "source": [
    "import numpy as np\n",
    "import pandas as pd\n",
    "import requests"
   ]
  },
  {
   "cell_type": "code",
   "execution_count": 5,
   "id": "2b7dbbde-27e6-4750-a563-84a3b2a073d2",
   "metadata": {},
   "outputs": [
    {
     "name": "stdout",
     "output_type": "stream",
     "text": [
      "[    1    25   445    45     5     1    45    45    55     5    44    11\n",
      "     5   441    12    44    55     4   454    44    55    54     4    44\n",
      "    44     4    41     0   211    11    44    44    11    44    44    44\n",
      "    44    11     1   122  5545  4117   441 54545  6522    11   444    22\n",
      "    44    12 44545   454    54   222    11    44    15    14]\n"
     ]
    }
   ],
   "source": [
    "file = np.genfromtxt('data.txt',delimiter=',')\n",
    "file = file.astype('int32')\n",
    "print(file)"
   ]
  },
  {
   "cell_type": "code",
   "execution_count": null,
   "id": "765e5f3c-85cc-4d01-892f-47a90cf79fd0",
   "metadata": {},
   "outputs": [],
   "source": []
  }
 ],
 "metadata": {
  "kernelspec": {
   "display_name": "Python 3",
   "language": "python",
   "name": "python3"
  },
  "language_info": {
   "codemirror_mode": {
    "name": "ipython",
    "version": 3
   },
   "file_extension": ".py",
   "mimetype": "text/x-python",
   "name": "python",
   "nbconvert_exporter": "python",
   "pygments_lexer": "ipython3",
   "version": "3.10.1"
  },
  "vscode": {
   "interpreter": {
    "hash": "be20d9baef4cb16da3bb874a051575f4de8fa71c3db46c0a1dc20ae78601d456"
   }
  }
 },
 "nbformat": 4,
 "nbformat_minor": 5
}
